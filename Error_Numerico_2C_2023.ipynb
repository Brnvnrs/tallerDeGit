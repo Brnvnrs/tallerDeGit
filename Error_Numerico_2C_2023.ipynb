{
  "cells": [
    {
      "cell_type": "markdown",
      "metadata": {
        "id": "view-in-github",
        "colab_type": "text"
      },
      "source": [
        "<a href=\"https://colab.research.google.com/github/Brnvnrs/tallerDeGit/blob/main/Error_Numerico_2C_2023.ipynb\" target=\"_parent\"><img src=\"https://colab.research.google.com/assets/colab-badge.svg\" alt=\"Open In Colab\"/></a>"
      ]
    },
    {
      "cell_type": "markdown",
      "id": "059fa5a2",
      "metadata": {
        "id": "059fa5a2"
      },
      "source": [
        "# Error numérico"
      ]
    },
    {
      "cell_type": "markdown",
      "id": "4020c1b2",
      "metadata": {
        "id": "4020c1b2"
      },
      "source": [
        "Cómo podemos representar estos conjuntos de número en una computadora?\n",
        "\n",
        "- $\\mathbb{N}_0$ naturales con el cero\n",
        "- $\\mathbb{Z}$ enteros\n",
        "- $\\mathbb{Q}$ racionales\n",
        "- $\\mathbb{R}$ reales\n",
        "- $\\mathbb{C}$ complejos"
      ]
    },
    {
      "cell_type": "markdown",
      "id": "1598d4a0",
      "metadata": {
        "id": "1598d4a0"
      },
      "source": [
        "Recordemos que, dado un $x \\in \\mathbb{R}$ podemos escribirlo como\n",
        "\n",
        "\\begin{equation}\n",
        "  x = \\sum\\limits_{j=0}^{N} a_j 10^j + \\sum\\limits_{j=1}^{\\infty} b_j 10^{-j}\n",
        "\\end{equation}\n",
        "\n",
        "donde el primer término es la parte entera y el segundo la decimal.\n",
        "\n",
        "Análogamente, podemos escribirlos con cualquier base. En particular, base binaria\n",
        "\n",
        "\\begin{equation}\n",
        "  x = \\sum\\limits_{j=0}^{N} a_j 2^j + \\sum\\limits_{j=1}^{\\infty} b_j 2^{-j}\n",
        "\\end{equation}\n",
        "\n",
        "Acá podemos considerar $a_j$ y $b_j$ como bits prendidos o apagados.\n",
        "\n",
        "Para representar números reales se puede utilizar representación de punto fijo, y de punto flotante"
      ]
    },
    {
      "cell_type": "markdown",
      "id": "ab9400fa",
      "metadata": {
        "id": "ab9400fa"
      },
      "source": [
        "### Representación de punto flotante\n",
        "\n",
        "Estándar IEEE-754 del 1985 para precisión _single_ (32 bits) y _double_ (64 bits)\n",
        "\n",
        "* Formatos aritméticos: conjuntos de datos de punto flotante binarios y decimales, que consisten en números finitos, infinitos y valores especiales \"no numéricos\" (NaN).\n",
        "* Reglas de redondeo: propiedades que deben satisfacerse al redondear los números durante las operaciones aritméticas y las conversiones.\n",
        "* Manejo de excepciones: indicaciones de condiciones excepcionales, tales como división por cero, desbordamiento, etc.\n",
        "* Sólo se pueden representar un subconjunto de $\\mathbb{Q}$, quedan fuera los racionales con decimales periódicos y los irracionales\n",
        "* Hay una cantidad finita de números que son representables. Cuantos son: combinatoria de los valores signo, exponente y mantisa\n",
        "* Sus números no estan uniformemente distribuidos entre el máximo y el mínimo. Sí lo están entre potencias sucesivas del exponente.\n",
        "\n",
        "![](https://i.imgur.com/NThAtkZ.png)\n",
        "\n"
      ]
    },
    {
      "cell_type": "markdown",
      "id": "c8674fb2",
      "metadata": {
        "id": "c8674fb2"
      },
      "source": [
        "|        | Signo (s) | Exponente (e)| Mantisa (m) | Sesgo (g)|\n",
        "|--------|-----------|--------------|-------------|----------|\n",
        "| Simple |     1 bit |     8 bits   |     23 bits | 127      |\n",
        "| Doble  |     1 bit |     11 bits  |     52 bits | 1023     |\n"
      ]
    },
    {
      "cell_type": "markdown",
      "id": "84f71614",
      "metadata": {
        "id": "84f71614"
      },
      "source": [
        "$x = (-1)^s \\ 2^{e-g} \\ (1 + m)$\n",
        "\n",
        "Ejemplo 32 bits\n",
        "\n",
        "![](https://i.imgur.com/EJGzDX9.png)\n",
        "\n",
        "https://www.h-schmidt.net/FloatConverter/IEEE754.html"
      ]
    },
    {
      "cell_type": "markdown",
      "id": "693a35b1",
      "metadata": {
        "id": "693a35b1"
      },
      "source": [
        " Casos extremos para 64 bits\n",
        "  \n",
        "  * Los números positivos menores al mínimo representable  $ 2^{-1023} \\ (1+2^{-52}) \\approx 10^{-308}$, producen _underflow_\n",
        "  * Los números positivos mayores al máximo representable  $2^{1024} \\ (2-2^{-52}) \\approx 10^{308}$, producen _overflow_\n",
        "  * Epsilon de máquina: menor valor que cumple $1+ϵ>1$\n",
        "  * NaN\n",
        "  * Inf  "
      ]
    },
    {
      "cell_type": "code",
      "execution_count": null,
      "id": "76a9e385",
      "metadata": {
        "id": "76a9e385"
      },
      "outputs": [],
      "source": [
        "import sys\n",
        "import numpy as np"
      ]
    },
    {
      "cell_type": "code",
      "source": [
        "np.finfo(np.float32)"
      ],
      "metadata": {
        "colab": {
          "base_uri": "https://localhost:8080/"
        },
        "id": "dzFEb6loYCSJ",
        "outputId": "27a4481b-c910-49dc-bae2-eeda252513be"
      },
      "id": "dzFEb6loYCSJ",
      "execution_count": null,
      "outputs": [
        {
          "output_type": "execute_result",
          "data": {
            "text/plain": [
              "finfo(resolution=1e-06, min=-3.4028235e+38, max=3.4028235e+38, dtype=float32)"
            ]
          },
          "metadata": {},
          "execution_count": 10
        }
      ]
    },
    {
      "cell_type": "code",
      "source": [
        "np.finfo(np.float64)"
      ],
      "metadata": {
        "colab": {
          "base_uri": "https://localhost:8080/"
        },
        "id": "6yUf1l3TYFP_",
        "outputId": "288c8de6-9947-417b-e5a2-ebaf4ed3e6af"
      },
      "id": "6yUf1l3TYFP_",
      "execution_count": null,
      "outputs": [
        {
          "output_type": "execute_result",
          "data": {
            "text/plain": [
              "finfo(resolution=1e-15, min=-1.7976931348623157e+308, max=1.7976931348623157e+308, dtype=float64)"
            ]
          },
          "metadata": {},
          "execution_count": 11
        }
      ]
    },
    {
      "cell_type": "code",
      "source": [
        "sys.float_info"
      ],
      "metadata": {
        "colab": {
          "base_uri": "https://localhost:8080/"
        },
        "id": "ma_NfOOCYDtX",
        "outputId": "22a97243-dec0-4732-fa7c-b3bc2d3a68f0"
      },
      "id": "ma_NfOOCYDtX",
      "execution_count": null,
      "outputs": [
        {
          "output_type": "execute_result",
          "data": {
            "text/plain": [
              "sys.float_info(max=1.7976931348623157e+308, max_exp=1024, max_10_exp=308, min=2.2250738585072014e-308, min_exp=-1021, min_10_exp=-307, dig=15, mant_dig=53, epsilon=2.220446049250313e-16, radix=2, rounds=1)"
            ]
          },
          "metadata": {},
          "execution_count": 12
        }
      ]
    },
    {
      "cell_type": "markdown",
      "source": [
        "minimum representable positive normalized float"
      ],
      "metadata": {
        "id": "rTaoNQJwcC_L"
      },
      "id": "rTaoNQJwcC_L"
    },
    {
      "cell_type": "code",
      "source": [
        "sys.float_info.min"
      ],
      "metadata": {
        "colab": {
          "base_uri": "https://localhost:8080/"
        },
        "id": "u4MiIqJ0VZyP",
        "outputId": "a4898103-dff1-4bed-84c6-fef822166446"
      },
      "id": "u4MiIqJ0VZyP",
      "execution_count": null,
      "outputs": [
        {
          "output_type": "execute_result",
          "data": {
            "text/plain": [
              "2.2250738585072014e-308"
            ]
          },
          "metadata": {},
          "execution_count": 13
        }
      ]
    },
    {
      "cell_type": "markdown",
      "source": [
        "difference between 1.0 and the least value greater than 1.0 that is representable as a float"
      ],
      "metadata": {
        "id": "gpwC_PC5cTM3"
      },
      "id": "gpwC_PC5cTM3"
    },
    {
      "cell_type": "code",
      "source": [
        "sys.float_info.epsilon"
      ],
      "metadata": {
        "colab": {
          "base_uri": "https://localhost:8080/"
        },
        "id": "Q528rgfgbfx7",
        "outputId": "7e58d29b-982e-4066-9f12-553e2ddeffd1"
      },
      "id": "Q528rgfgbfx7",
      "execution_count": null,
      "outputs": [
        {
          "output_type": "execute_result",
          "data": {
            "text/plain": [
              "2.220446049250313e-16"
            ]
          },
          "metadata": {},
          "execution_count": 15
        }
      ]
    },
    {
      "cell_type": "code",
      "source": [
        "sys.float_info.min * sys.float_info.epsilon"
      ],
      "metadata": {
        "colab": {
          "base_uri": "https://localhost:8080/"
        },
        "id": "oGBpBwtITv_5",
        "outputId": "ebe90652-dbfb-44ec-a6e8-22cd546ed8e0"
      },
      "id": "oGBpBwtITv_5",
      "execution_count": null,
      "outputs": [
        {
          "output_type": "execute_result",
          "data": {
            "text/plain": [
              "5e-324"
            ]
          },
          "metadata": {},
          "execution_count": 16
        }
      ]
    },
    {
      "cell_type": "code",
      "source": [
        "1 + sys.float_info.epsilon"
      ],
      "metadata": {
        "colab": {
          "base_uri": "https://localhost:8080/"
        },
        "id": "McJ38Rg_TlK0",
        "outputId": "e7c28d43-70e7-468d-fa66-3aebacf658d0"
      },
      "id": "McJ38Rg_TlK0",
      "execution_count": null,
      "outputs": [
        {
          "output_type": "execute_result",
          "data": {
            "text/plain": [
              "1.0000000000000002"
            ]
          },
          "metadata": {},
          "execution_count": 17
        }
      ]
    },
    {
      "cell_type": "code",
      "source": [
        "1 + sys.float_info.epsilon/2"
      ],
      "metadata": {
        "colab": {
          "base_uri": "https://localhost:8080/"
        },
        "id": "4CzQ7rtPex_z",
        "outputId": "d2e259aa-351d-4184-b0fb-c7060a07f8b8"
      },
      "id": "4CzQ7rtPex_z",
      "execution_count": null,
      "outputs": [
        {
          "output_type": "execute_result",
          "data": {
            "text/plain": [
              "1.0"
            ]
          },
          "metadata": {},
          "execution_count": 18
        }
      ]
    },
    {
      "cell_type": "code",
      "source": [
        "1 / sys.float_info.min"
      ],
      "metadata": {
        "colab": {
          "base_uri": "https://localhost:8080/"
        },
        "id": "S6Pj3XgbVxLd",
        "outputId": "fc8e04e8-3be7-4959-83e7-49b2d66de8ae"
      },
      "id": "S6Pj3XgbVxLd",
      "execution_count": null,
      "outputs": [
        {
          "output_type": "execute_result",
          "data": {
            "text/plain": [
              "4.49423283715579e+307"
            ]
          },
          "metadata": {},
          "execution_count": 19
        }
      ]
    },
    {
      "cell_type": "code",
      "source": [
        "1 / (sys.float_info.min * sys.float_info.epsilon)"
      ],
      "metadata": {
        "colab": {
          "base_uri": "https://localhost:8080/"
        },
        "id": "_ZYFA1VGVzAd",
        "outputId": "9ee814c6-56fb-4b73-984d-bcffd16b8147"
      },
      "id": "_ZYFA1VGVzAd",
      "execution_count": null,
      "outputs": [
        {
          "output_type": "execute_result",
          "data": {
            "text/plain": [
              "inf"
            ]
          },
          "metadata": {},
          "execution_count": 20
        }
      ]
    },
    {
      "cell_type": "markdown",
      "source": [
        "No va a andar esto...."
      ],
      "metadata": {
        "id": "xi6QGWNAbuM7"
      },
      "id": "xi6QGWNAbuM7"
    },
    {
      "cell_type": "code",
      "source": [
        "1/0.0"
      ],
      "metadata": {
        "colab": {
          "base_uri": "https://localhost:8080/",
          "height": 178
        },
        "id": "IJbDedI_TgcB",
        "outputId": "479797a7-d43d-4191-e364-b06f96bad5ba"
      },
      "id": "IJbDedI_TgcB",
      "execution_count": null,
      "outputs": [
        {
          "output_type": "error",
          "ename": "ZeroDivisionError",
          "evalue": "ignored",
          "traceback": [
            "\u001b[0;31m---------------------------------------------------------------------------\u001b[0m",
            "\u001b[0;31mZeroDivisionError\u001b[0m                         Traceback (most recent call last)",
            "\u001b[0;32m<ipython-input-21-be21d1bc0296>\u001b[0m in \u001b[0;36m<cell line: 1>\u001b[0;34m()\u001b[0m\n\u001b[0;32m----> 1\u001b[0;31m \u001b[0;36m1\u001b[0m\u001b[0;34m/\u001b[0m\u001b[0;36m0.0\u001b[0m\u001b[0;34m\u001b[0m\u001b[0;34m\u001b[0m\u001b[0m\n\u001b[0m",
            "\u001b[0;31mZeroDivisionError\u001b[0m: float division by zero"
          ]
        }
      ]
    },
    {
      "cell_type": "code",
      "source": [
        "np.inf+np.inf"
      ],
      "metadata": {
        "colab": {
          "base_uri": "https://localhost:8080/"
        },
        "id": "eIFn9V-0YRdO",
        "outputId": "ce165cc4-6aa4-41c0-f9ab-47223b95e3f0"
      },
      "id": "eIFn9V-0YRdO",
      "execution_count": null,
      "outputs": [
        {
          "output_type": "execute_result",
          "data": {
            "text/plain": [
              "inf"
            ]
          },
          "metadata": {},
          "execution_count": 15
        }
      ]
    },
    {
      "cell_type": "code",
      "source": [
        "1/np.inf"
      ],
      "metadata": {
        "colab": {
          "base_uri": "https://localhost:8080/"
        },
        "id": "caqzTNpxYmkI",
        "outputId": "890e049d-faed-4422-8310-6ca496ed74bb"
      },
      "id": "caqzTNpxYmkI",
      "execution_count": null,
      "outputs": [
        {
          "output_type": "execute_result",
          "data": {
            "text/plain": [
              "0.0"
            ]
          },
          "metadata": {},
          "execution_count": 16
        }
      ]
    },
    {
      "cell_type": "code",
      "source": [
        "np.inf-np.inf"
      ],
      "metadata": {
        "colab": {
          "base_uri": "https://localhost:8080/"
        },
        "id": "ttCVdTgNYtx_",
        "outputId": "ec6771c2-3727-4606-c47d-6d5fe2c470a8"
      },
      "id": "ttCVdTgNYtx_",
      "execution_count": null,
      "outputs": [
        {
          "output_type": "execute_result",
          "data": {
            "text/plain": [
              "nan"
            ]
          },
          "metadata": {},
          "execution_count": 17
        }
      ]
    },
    {
      "cell_type": "code",
      "execution_count": null,
      "id": "96a6a57a",
      "metadata": {
        "colab": {
          "base_uri": "https://localhost:8080/"
        },
        "id": "96a6a57a",
        "outputId": "33c9b5a0-15c3-4e37-9d46-07210c598e56"
      },
      "outputs": [
        {
          "output_type": "execute_result",
          "data": {
            "text/plain": [
              "2.220446049250313e-16"
            ]
          },
          "metadata": {},
          "execution_count": 18
        }
      ],
      "source": [
        "# Resolución mínima parándome en el número 1\n",
        "# Return the distance between x and the nearest adjacent number.\n",
        "# spacing the 1 es epsilon\n",
        "np.spacing(1)"
      ]
    },
    {
      "cell_type": "code",
      "execution_count": null,
      "id": "582ddd18",
      "metadata": {
        "colab": {
          "base_uri": "https://localhost:8080/"
        },
        "id": "582ddd18",
        "outputId": "d39fe302-c687-413e-80c3-ecf6263dd2d0"
      },
      "outputs": [
        {
          "output_type": "execute_result",
          "data": {
            "text/plain": [
              "2.220446049250313e-16"
            ]
          },
          "metadata": {},
          "execution_count": 19
        }
      ],
      "source": [
        "# Encontramos el epsilon cuando sumar 1 + epsilon = 1\n",
        "y = 1\n",
        "x = y\n",
        "while y+x!=y:\n",
        "    eps = x\n",
        "    x=x/2\n",
        "eps"
      ]
    },
    {
      "cell_type": "code",
      "source": [
        "x = 100000.0\n",
        "while not np.isnan(x):\n",
        "    x=10000.0*x-x\n",
        "    print(x)\n",
        "x"
      ],
      "metadata": {
        "colab": {
          "base_uri": "https://localhost:8080/"
        },
        "id": "-cxB0t-3Y44x",
        "outputId": "730d1656-944a-4a84-a1e7-08c39af26cb3"
      },
      "id": "-cxB0t-3Y44x",
      "execution_count": null,
      "outputs": [
        {
          "output_type": "stream",
          "name": "stdout",
          "text": [
            "999900000.0\n",
            "9998000100000.0\n",
            "9.99700029999e+16\n",
            "9.996000599960002e+20\n",
            "9.995000999900006e+24\n",
            "9.994001499800016e+28\n",
            "9.993002099650036e+32\n",
            "9.992002799440072e+36\n",
            "9.991003599160128e+40\n",
            "9.990004498800213e+44\n",
            "9.989005498350333e+48\n",
            "9.988006597800497e+52\n",
            "9.987007797140718e+56\n",
            "9.986009096361003e+60\n",
            "9.985010495451368e+64\n",
            "9.984011994401823e+68\n",
            "9.983013593202384e+72\n",
            "9.982015291843064e+76\n",
            "9.981017090313878e+80\n",
            "9.980018988604847e+84\n",
            "9.979020986705987e+88\n",
            "9.978023084607317e+92\n",
            "9.977025282298857e+96\n",
            "9.976027579770627e+100\n",
            "9.97502997701265e+104\n",
            "9.974032474014948e+108\n",
            "9.973035070767546e+112\n",
            "9.97203776726047e+116\n",
            "9.971040563483744e+120\n",
            "9.970043459427396e+124\n",
            "9.969046455081452e+128\n",
            "9.968049550435944e+132\n",
            "9.967052745480902e+136\n",
            "9.966056040206353e+140\n",
            "9.965059434602334e+144\n",
            "9.964062928658873e+148\n",
            "9.963066522366007e+152\n",
            "9.96207021571377e+156\n",
            "9.9610740086922e+160\n",
            "9.960077901291329e+164\n",
            "9.9590818935012e+168\n",
            "9.95808598531185e+172\n",
            "9.957090176713318e+176\n",
            "9.956094467695647e+180\n",
            "9.955098858248877e+184\n",
            "9.954103348363053e+188\n",
            "9.953107938028218e+192\n",
            "9.952112627234415e+196\n",
            "9.951117415971692e+200\n",
            "9.950122304230096e+204\n",
            "9.949127291999672e+208\n",
            "9.94813237927047e+212\n",
            "9.947137566032544e+216\n",
            "9.946142852275941e+220\n",
            "9.945148237990714e+224\n",
            "9.944153723166916e+228\n",
            "9.9431593077946e+232\n",
            "9.942164991863821e+236\n",
            "9.941170775364636e+240\n",
            "9.940176658287098e+244\n",
            "9.93918264062127e+248\n",
            "9.938188722357207e+252\n",
            "9.937194903484972e+256\n",
            "9.936201183994623e+260\n",
            "9.935207563876223e+264\n",
            "9.934214043119836e+268\n",
            "9.933220621715523e+272\n",
            "9.932227299653351e+276\n",
            "9.931234076923385e+280\n",
            "9.930240953515693e+284\n",
            "9.929247929420342e+288\n",
            "9.9282550046274e+292\n",
            "9.927262179126936e+296\n",
            "9.926269452909024e+300\n",
            "9.925276825963735e+304\n",
            "inf\n",
            "nan\n"
          ]
        },
        {
          "output_type": "execute_result",
          "data": {
            "text/plain": [
              "nan"
            ]
          },
          "metadata": {},
          "execution_count": 20
        }
      ]
    },
    {
      "cell_type": "markdown",
      "id": "22b7c2c9",
      "metadata": {
        "id": "22b7c2c9"
      },
      "source": [
        "## Fuentes de error al realizar operaciones con aritmética finita\n",
        "\n",
        "* Sumar números de distinta magnitud\n",
        "* Restar números muy similares (Cancelación Catastrófica)\n",
        "* Dividir por números pequeños\n",
        "* Multiplicar por números grandes\n",
        "\n",
        " Notación: $fl(x)$ es la representación de punto flotante por redondeo $x$"
      ]
    },
    {
      "cell_type": "markdown",
      "id": "70c56512",
      "metadata": {
        "id": "70c56512"
      },
      "source": [
        "### Sumar números de distinta magnitud\n",
        "\n",
        "* Cuando sumamos o restamos en punto flotante, los exponentes tienen que coincidir para poder operar sobre las mantisas.\n",
        "* Hacerlos coincidir requiere shifts del exponente, potencialmente perdiendo dígitos.\n",
        "\n",
        "Ejemplo usando precisión de $k = 5$ dígitos\n",
        "\n",
        "Sean $x = 0,88888888 \\times 10^7$ e $y = 0,1 \\times 10^2$. Entonces\n",
        "\n",
        "$$\n",
        "\\begin{align*}\n",
        "fl(fl(x) + fl(y)) &= fl(0,88888 \\cdot 10^7 + 0,1 \\cdot 10^2)\\\\\n",
        "&= fl(0,88888 \\cdot 10^7 + 0,000001 \\cdot 10^7)\\\\\n",
        "&= fl(0,888881 \\cdot 10^7)\\\\\n",
        "&= 0,88888 \\cdot 10^7\n",
        "\\end{align*}\n",
        "$$\n",
        "\n",
        "El valor $x$ _absorbió_ a $y$. ¿Qué pasaría al sumar muchos números?\n",
        "\n"
      ]
    },
    {
      "cell_type": "code",
      "execution_count": null,
      "id": "0393f505",
      "metadata": {
        "colab": {
          "base_uri": "https://localhost:8080/"
        },
        "id": "0393f505",
        "outputId": "f9017b34-a429-4120-84b6-0c3a35be75b8"
      },
      "outputs": [
        {
          "output_type": "stream",
          "name": "stdout",
          "text": [
            "Se conserva la suma: 1000000.0000000001\n",
            "Se redondeó: 10000000.0\n"
          ]
        }
      ],
      "source": [
        "print('Se conserva la suma:', 1e+6+1e-10)\n",
        "print('Se redondeó:',1e+7+1e-10)"
      ]
    },
    {
      "cell_type": "markdown",
      "id": "47d8bb7d",
      "metadata": {
        "id": "47d8bb7d"
      },
      "source": [
        "### División por números pequeños\n",
        "\n",
        "* Al multiplicar por un número grande el error de redondeo se amplifica proporcionalmente\n",
        "* Lo mismo ocurre al dividir por un número muy chico\n",
        "\n",
        "Ejemplo:\n",
        "* $fl(z) = z + \\delta$ donde $\\delta$ es el error de representación o introducido en un cálculo anterior.\n",
        "* $\\epsilon = 10^{-n}$ donde $n > 0$\n",
        "* $\\dfrac{z}{\\epsilon} \\approx fl ( \\dfrac{fl(z)}{fl(\\epsilon)}) = (z + \\delta ) \\times 10^n$ \\\\\n",
        "* Error absoluto = $| \\delta | \\times 10^n$"
      ]
    },
    {
      "cell_type": "code",
      "execution_count": null,
      "id": "e3821b1d",
      "metadata": {
        "colab": {
          "base_uri": "https://localhost:8080/"
        },
        "id": "e3821b1d",
        "outputId": "06aa0f31-6eea-4c26-d75b-667615d662e7"
      },
      "outputs": [
        {
          "output_type": "execute_result",
          "data": {
            "text/plain": [
              "4096.0"
            ]
          },
          "metadata": {},
          "execution_count": 22
        }
      ],
      "source": [
        "(0.1+0.2)/1e-20 - 0.3/1e-20"
      ]
    },
    {
      "cell_type": "markdown",
      "id": "a3d9a9a1",
      "metadata": {
        "id": "a3d9a9a1"
      },
      "source": [
        "### Restar números similares\n",
        "\n",
        "Cancelación catastrófica\n",
        "\n",
        "$$\n",
        "{\\displaystyle {\\begin{aligned}{\\tilde {x}}-{\\tilde {y}}&=x(1+\\delta _{x})-y(1+\\delta _{y})=x-y+x\\delta _{x}-y\\delta _{y}\\\\&=x-y+(x-y){\\frac {x\\delta _{x}-y\\delta _{y}}{x-y}}\\\\&=(x-y){\\biggr (}1+{\\frac {x\\delta _{x}-y\\delta _{y}}{x-y}}{\\biggr )}.\\end{aligned}}}\n",
        "$$\n",
        "\n",
        "El error relativo de la diferencia exacta de las aproximaciones de los valores verdaderos puede ser arbitrariamente grande si los valores verdaderos x e y estas cerca."
      ]
    },
    {
      "cell_type": "markdown",
      "id": "4602ab6f",
      "metadata": {
        "id": "4602ab6f"
      },
      "source": [
        "#### Ejemplo:\n",
        "\n",
        "Qué pasa si computamos $\\displaystyle \\frac{1-cos(x)}{x^2}$ para valores pequeños de $x$\n"
      ]
    },
    {
      "cell_type": "code",
      "execution_count": null,
      "id": "1df71caf",
      "metadata": {
        "id": "1df71caf"
      },
      "outputs": [],
      "source": [
        "import matplotlib.pyplot as plt"
      ]
    },
    {
      "cell_type": "code",
      "execution_count": null,
      "id": "ea3c470f",
      "metadata": {
        "colab": {
          "base_uri": "https://localhost:8080/",
          "height": 448
        },
        "id": "ea3c470f",
        "outputId": "0a3c1dab-5f36-4d41-950b-aa2b723de734"
      },
      "outputs": [
        {
          "output_type": "display_data",
          "data": {
            "text/plain": [
              "<Figure size 640x480 with 1 Axes>"
            ],
            "image/png": "[encoded data removed]"
          },
          "metadata": {}
        }
      ],
      "source": [
        "x = np.linspace(-10e-8,10e-8,100)\n",
        "y = (1-np.cos(x))/x**2\n",
        "plt.plot(x,y, label='$(1-cos(x))/x^2$')\n",
        "plt.legend();"
      ]
    },
    {
      "cell_type": "code",
      "execution_count": null,
      "id": "25abf4de",
      "metadata": {
        "colab": {
          "base_uri": "https://localhost:8080/",
          "height": 463
        },
        "id": "25abf4de",
        "outputId": "5420c4c6-ade2-41fd-b0f9-8bd1174eb1e4"
      },
      "outputs": [
        {
          "output_type": "display_data",
          "data": {
            "text/plain": [
              "<Figure size 640x480 with 1 Axes>"
            ],
            "image/png": "[encoded data removed]"
          },
          "metadata": {}
        }
      ],
      "source": [
        "x = np.linspace(-2e-8,2e-8,100)\n",
        "y = (1-np.cos(x))\n",
        "plt.plot(x,y, label='$1-cos(x)$')\n",
        "plt.plot(x,x**2, label='$x²$')\n",
        "plt.legend();"
      ]
    },
    {
      "cell_type": "markdown",
      "id": "850d501a",
      "metadata": {
        "id": "850d501a"
      },
      "source": [
        "Si se quiere evitar el problema, en este caso hay que buscar una identidad trigonométrica que no tenga la resta\n",
        "$\\displaystyle \\frac{2 sin^2(\\frac{x}{2})}{x^2}$"
      ]
    },
    {
      "cell_type": "code",
      "execution_count": null,
      "id": "86e1cfde",
      "metadata": {
        "colab": {
          "base_uri": "https://localhost:8080/",
          "height": 448
        },
        "id": "86e1cfde",
        "outputId": "45182960-8ac6-488d-8f7b-2ce4efd3e20c"
      },
      "outputs": [
        {
          "output_type": "display_data",
          "data": {
            "text/plain": [
              "<Figure size 640x480 with 1 Axes>"
            ],
            "image/png": "[encoded data removed]"
          },
          "metadata": {}
        }
      ],
      "source": [
        "x = np.linspace(-10e-8,10e-8,100)\n",
        "y = 2*np.sin(x/2)**2/x**2\n",
        "plt.plot(x,y);"
      ]
    },
    {
      "cell_type": "code",
      "source": [
        "x = np.linspace(-10,10,100)\n",
        "y = 2*np.sin(x/2)**2/x**2\n",
        "plt.plot(x,y, label='$y = 2*sin(x/2)^2/x^2$')\n",
        "plt.legend();"
      ],
      "metadata": {
        "colab": {
          "base_uri": "https://localhost:8080/",
          "height": 430
        },
        "id": "WAzw0r5iaoeo",
        "outputId": "941f080c-8ada-4972-fc0c-bd49655a1fcb"
      },
      "id": "WAzw0r5iaoeo",
      "execution_count": null,
      "outputs": [
        {
          "output_type": "display_data",
          "data": {
            "text/plain": [
              "<Figure size 640x480 with 1 Axes>"
            ],
            "image/png": "[encoded data removed]"
          },
          "metadata": {}
        }
      ]
    },
    {
      "cell_type": "markdown",
      "id": "bb4ef8a4",
      "metadata": {
        "id": "bb4ef8a4"
      },
      "source": [
        "## Consigna para experimentar:\n",
        "\n",
        "Qué pasa cuando se quieren sumar una lista de números. ¿Importa el orden en que se suman?\n",
        "\n",
        "Nos interesa entender las fuentes de error numérico al realizar la suma de muchos números representados con un sistema de punto flotante y comparar distintos algoritmos para realizar esta tarea.\n",
        "\n",
        "Posibilidades de algoritmos:\n",
        "* Ası́ como vengan. Porque es lo más simple. Además queremos un baseline para comparar los otros métodos.\n",
        "* Usando el algoritmo de Kahan. Porque la catedra nos lo dijo\n",
        "* Ordenándolos de menor a mayor. Para no perder los numeritos chiquitos\n",
        "* Ordenándolos de mayor a menor. Porque quiero romper todo\n",
        "\n",
        "También nos interesa lo que tardan estos algoritmos, para eso vamos a medir los tiempos de cómputo en función de la cantidad de elementos\n",
        "\n",
        "Nos interesa responder:\n",
        "* Cómo se comportan los algoritmos para varios tamaños?\n",
        "* Cómo elegir los tamaños?\n",
        "* Cómo medir los tiempos?\n",
        "* Los resultados que se obtienen son razonables?"
      ]
    },
    {
      "cell_type": "markdown",
      "id": "f4cd96e1",
      "metadata": {
        "id": "f4cd96e1"
      },
      "source": [
        "### Pedimos:\n",
        "\n",
        "- Breve experimentación\n",
        "- Redacción simulacro de TP no más de unos párrafos (https://www.overleaf.com/)\n",
        "- Para este informe de prueba:\n",
        "\n",
        "- No hace falta:\n",
        "\n",
        "    - Introducción, conclusiones, código de como implementaron una solución al problema o casos de tests para probar que su implementación es correcta.\n",
        "\n",
        "- Si hace falta:\n",
        "\n",
        "    - Hipótesis y disusión de los resultados obtenidos.\n",
        "\n",
        "- Sugerencias adicionales:\n",
        "\n",
        "    - Planteo del problema cientı́fico. Objetivo de la consigna, qué se quiere investigar. Hipótesis previas sobre como funcionarán las cosas.\n",
        "    - Explicación del algoritmo/objeto de estudio.\n",
        "    - Proponer y fundamentar la experimentación: de qué forma se vincula lo que van a experimentar con las hipótesis que quieren validar.\n",
        "    - Explicar los diferentes métodos utilizados para la experimentación"
      ]
    },
    {
      "cell_type": "markdown",
      "id": "f36ff352",
      "metadata": {
        "id": "f36ff352"
      },
      "source": [
        "### Ejemplos"
      ]
    },
    {
      "cell_type": "code",
      "execution_count": null,
      "id": "582bf2d3",
      "metadata": {
        "colab": {
          "base_uri": "https://localhost:8080/"
        },
        "id": "582bf2d3",
        "outputId": "4e6b0144-5a48-4f20-abe4-4cc661847994"
      },
      "outputs": [
        {
          "output_type": "execute_result",
          "data": {
            "text/plain": [
              "0.9999999999999999"
            ]
          },
          "metadata": {},
          "execution_count": 27
        }
      ],
      "source": [
        "# Errores que se propagan cuando se repiten muchas operaciones\n",
        "0.1+0.1+0.1+0.1+0.1+0.1+0.1+0.1+0.1+0.1"
      ]
    },
    {
      "cell_type": "code",
      "execution_count": null,
      "id": "07721fee",
      "metadata": {
        "colab": {
          "base_uri": "https://localhost:8080/"
        },
        "id": "07721fee",
        "outputId": "58464a55-0f0d-4124-f345-949badfe588d"
      },
      "outputs": [
        {
          "output_type": "execute_result",
          "data": {
            "text/plain": [
              "0.9999999999999999"
            ]
          },
          "metadata": {},
          "execution_count": 28
        }
      ],
      "source": [
        "# Sumamos n terminos 1/n\n",
        "n = 10\n",
        "suma = 0.0\n",
        "for i in range(n):\n",
        "    suma = suma + 1/n\n",
        "suma"
      ]
    },
    {
      "cell_type": "code",
      "execution_count": null,
      "id": "bb4667d1",
      "metadata": {
        "id": "bb4667d1"
      },
      "outputs": [],
      "source": [
        "from numba import jit"
      ]
    },
    {
      "cell_type": "code",
      "execution_count": null,
      "id": "7a4bacc4",
      "metadata": {
        "id": "7a4bacc4"
      },
      "outputs": [],
      "source": [
        "@jit\n",
        "def suma(lista):\n",
        "    suma = 0.0\n",
        "    for x in lista:\n",
        "        suma = suma + x\n",
        "    return suma\n",
        "\n",
        "@jit\n",
        "def kahan(lista):\n",
        "    suma = 0.0\n",
        "    c = 0.0\n",
        "    for x in lista:\n",
        "        y = x - c\n",
        "        t = suma + y\n",
        "        c = (t - suma) - y\n",
        "        suma = t\n",
        "    return suma"
      ]
    },
    {
      "cell_type": "code",
      "execution_count": null,
      "id": "5ed58a1f",
      "metadata": {
        "id": "5ed58a1f",
        "colab": {
          "base_uri": "https://localhost:8080/"
        },
        "outputId": "6ed3a887-b021-4c53-aa0f-8cec6a8650f5"
      },
      "outputs": [
        {
          "output_type": "stream",
          "name": "stdout",
          "text": [
            "[0.01 0.01 0.01 0.01 0.01 0.01 0.01 0.01 0.01 0.01 0.01 0.01 0.01 0.01\n",
            " 0.01 0.01 0.01 0.01 0.01 0.01 0.01 0.01 0.01 0.01 0.01 0.01 0.01 0.01\n",
            " 0.01 0.01 0.01 0.01 0.01 0.01 0.01 0.01 0.01 0.01 0.01 0.01 0.01 0.01\n",
            " 0.01 0.01 0.01 0.01 0.01 0.01 0.01 0.01 0.01 0.01 0.01 0.01 0.01 0.01\n",
            " 0.01 0.01 0.01 0.01 0.01 0.01 0.01 0.01 0.01 0.01 0.01 0.01 0.01 0.01\n",
            " 0.01 0.01 0.01 0.01 0.01 0.01 0.01 0.01 0.01 0.01 0.01 0.01 0.01 0.01\n",
            " 0.01 0.01 0.01 0.01 0.01 0.01 0.01 0.01 0.01 0.01 0.01 0.01 0.01 0.01\n",
            " 0.01 0.01]\n"
          ]
        }
      ],
      "source": [
        "# Serie términos iguales\n",
        "n = 100\n",
        "lista = np.array([1/n]*n)\n",
        "print(lista)"
      ]
    },
    {
      "cell_type": "code",
      "execution_count": null,
      "id": "81772898",
      "metadata": {
        "colab": {
          "base_uri": "https://localhost:8080/"
        },
        "id": "81772898",
        "outputId": "2b8ed348-3b46-426a-9b64-c9f899428962"
      },
      "outputs": [
        {
          "output_type": "execute_result",
          "data": {
            "text/plain": [
              "(1.0000000000000007, 1.0)"
            ]
          },
          "metadata": {},
          "execution_count": 32
        }
      ],
      "source": [
        "suma(lista),  kahan(lista)"
      ]
    },
    {
      "cell_type": "code",
      "execution_count": null,
      "id": "666188b5",
      "metadata": {
        "colab": {
          "base_uri": "https://localhost:8080/"
        },
        "id": "666188b5",
        "outputId": "cf2e044b-d5f1-45c1-d59f-9f6e2dc8727e"
      },
      "outputs": [
        {
          "output_type": "execute_result",
          "data": {
            "text/plain": [
              "9.999734386011127"
            ]
          },
          "metadata": {},
          "execution_count": 33
        }
      ],
      "source": [
        "# Series geométrica\n",
        "n = 100\n",
        "r = 0.9\n",
        "lista = r**np.arange(n)\n",
        "\n",
        "# Suma fórmula cerrada\n",
        "(1 - r**n)/(1-r)"
      ]
    },
    {
      "cell_type": "code",
      "execution_count": null,
      "id": "8f6066cb",
      "metadata": {
        "colab": {
          "base_uri": "https://localhost:8080/"
        },
        "id": "8f6066cb",
        "outputId": "1717c444-92ef-4361-d333-376103bd2732"
      },
      "outputs": [
        {
          "output_type": "execute_result",
          "data": {
            "text/plain": [
              "(9.999734386011122, 9.999734386011127, 9.999734386011122, 9.999734386011127)"
            ]
          },
          "metadata": {},
          "execution_count": 34
        }
      ],
      "source": [
        "suma(lista), suma(np.sort(lista)), suma(np.sort(lista)[::-1]), kahan(lista)"
      ]
    },
    {
      "cell_type": "code",
      "execution_count": null,
      "id": "e92ff3cc",
      "metadata": {
        "id": "e92ff3cc"
      },
      "outputs": [],
      "source": [
        "# Series aleatorios diferentes ordenes de magnitud\n",
        "n = 10000\n",
        "r = 0.99\n",
        "np.random.seed(1)\n",
        "lista = np.array(r**np.random.randint(1,1000,n))"
      ]
    },
    {
      "cell_type": "code",
      "execution_count": null,
      "id": "13fcf496",
      "metadata": {
        "colab": {
          "base_uri": "https://localhost:8080/"
        },
        "id": "13fcf496",
        "outputId": "a3ed189c-f61f-4a93-8e84-4925c864c2ac"
      },
      "outputs": [
        {
          "output_type": "execute_result",
          "data": {
            "text/plain": [
              "(1020.8543202006157,\n",
              " 1020.8543202006146,\n",
              " 1020.8543202006157,\n",
              " 1020.8543202006142)"
            ]
          },
          "metadata": {},
          "execution_count": 36
        }
      ],
      "source": [
        "suma(lista), suma(np.sort(lista)), suma(np.sort(lista)[::-1]), kahan(lista)"
      ]
    },
    {
      "cell_type": "markdown",
      "source": [
        "## Reprote de distribuciones en experimentos con aleatoriedad"
      ],
      "metadata": {
        "id": "hp0Ut_zH1Low"
      },
      "id": "hp0Ut_zH1Low"
    },
    {
      "cell_type": "markdown",
      "source": [
        "Los errores generados al sumar los elementos de la lista, depende del orden de como estén estos elementos. Podemos computar la suma para muchos ordenamientos distintos y ver la distribución de los errores"
      ],
      "metadata": {
        "id": "UZb1or271Wxo"
      },
      "id": "UZb1or271Wxo"
    },
    {
      "cell_type": "code",
      "source": [
        "errores = []\n",
        "n = 10000\n",
        "r = 0.99\n",
        "fn = sum\n",
        "for i in range(1000):\n",
        "    lista = r**np.arange(n)\n",
        "    np.random.seed(i)\n",
        "    np.random.shuffle(lista)\n",
        "    errores.append(np.abs(fn(lista)-(1 - r**n)/(1-r)))\n",
        "\n",
        "plt.hist(errores, density=True);"
      ],
      "metadata": {
        "colab": {
          "base_uri": "https://localhost:8080/",
          "height": 463
        },
        "id": "AVRcNavu1ZJZ",
        "outputId": "eee6164f-cddf-4b3a-afc7-d9960a4fae5c"
      },
      "id": "AVRcNavu1ZJZ",
      "execution_count": null,
      "outputs": [
        {
          "output_type": "display_data",
          "data": {
            "text/plain": [
              "<Figure size 640x480 with 1 Axes>"
            ],
            "image/png": "[encoded data removed]"
          },
          "metadata": {}
        }
      ]
    },
    {
      "cell_type": "markdown",
      "source": [
        "Qué tipo de distribucioń es? Cómo se puede representar graficamente el valor esperado y la dispersión?"
      ],
      "metadata": {
        "id": "cvdwHUjp2Tl0"
      },
      "id": "cvdwHUjp2Tl0"
    },
    {
      "cell_type": "markdown",
      "id": "5be92591",
      "metadata": {
        "id": "5be92591"
      },
      "source": [
        "## Medición de tiempos"
      ]
    },
    {
      "cell_type": "code",
      "execution_count": null,
      "id": "956369f6",
      "metadata": {
        "colab": {
          "base_uri": "https://localhost:8080/"
        },
        "id": "956369f6",
        "outputId": "1c5f71f8-289e-45a7-e132-6f21c7a6731f"
      },
      "outputs": [
        {
          "output_type": "execute_result",
          "data": {
            "text/plain": [
              "1.001558542251587"
            ]
          },
          "metadata": {},
          "execution_count": 42
        }
      ],
      "source": [
        "import time\n",
        "tic = time.time()\n",
        "time.sleep(1)\n",
        "toc = time.time()\n",
        "toc-tic"
      ]
    },
    {
      "cell_type": "code",
      "execution_count": null,
      "id": "182ca401",
      "metadata": {
        "colab": {
          "base_uri": "https://localhost:8080/"
        },
        "id": "182ca401",
        "outputId": "921aa9b1-c4b4-4073-cade-f7c5573317f8"
      },
      "outputs": [
        {
          "output_type": "stream",
          "name": "stdout",
          "text": [
            "1 s ± 0 ns per loop (mean ± std. dev. of 1 run, 1 loop each)\n"
          ]
        }
      ],
      "source": [
        "times = %timeit -r 1 -n 1 -o time.sleep(1)"
      ]
    },
    {
      "cell_type": "code",
      "execution_count": null,
      "id": "6c28745d",
      "metadata": {
        "colab": {
          "base_uri": "https://localhost:8080/"
        },
        "id": "6c28745d",
        "outputId": "9841d99b-c7dd-4802-f0af-1f8e9e38817e"
      },
      "outputs": [
        {
          "output_type": "execute_result",
          "data": {
            "text/plain": [
              "0.00025343894958496094"
            ]
          },
          "metadata": {},
          "execution_count": 44
        }
      ],
      "source": [
        "tic = time.time()\n",
        "suma(lista)\n",
        "toc = time.time()\n",
        "(toc-tic)"
      ]
    },
    {
      "cell_type": "code",
      "execution_count": null,
      "id": "23639028",
      "metadata": {
        "colab": {
          "base_uri": "https://localhost:8080/"
        },
        "id": "23639028",
        "outputId": "ba96e9e2-8faa-4a1b-a5f2-4995ae5c9011"
      },
      "outputs": [
        {
          "output_type": "stream",
          "name": "stdout",
          "text": [
            "16 µs ± 167 ns per loop (mean ± std. dev. of 5 runs, 100 loops each)\n"
          ]
        }
      ],
      "source": [
        "times = %timeit -r 5 -n 100 -o suma(lista)"
      ]
    },
    {
      "cell_type": "markdown",
      "source": [
        "### Distribución de tiempos"
      ],
      "metadata": {
        "id": "KbSS0N8167c7"
      },
      "id": "KbSS0N8167c7"
    },
    {
      "cell_type": "code",
      "source": [
        "times = %timeit -q -r 5000 -n 10 -o suma(lista)"
      ],
      "metadata": {
        "id": "9amQIrv75wcU"
      },
      "id": "9amQIrv75wcU",
      "execution_count": null,
      "outputs": []
    },
    {
      "cell_type": "code",
      "source": [
        "plt.hist(times.all_runs,log='True');\n",
        "plt.ylabel('#')\n",
        "plt.xlabel('Tiempo (s)');"
      ],
      "metadata": {
        "colab": {
          "base_uri": "https://localhost:8080/",
          "height": 449
        },
        "id": "lnhdlVrV5yct",
        "outputId": "8e9a52f9-14ca-458f-edb7-f3fdde12fbd8"
      },
      "id": "lnhdlVrV5yct",
      "execution_count": null,
      "outputs": [
        {
          "output_type": "display_data",
          "data": {
            "text/plain": [
              "<Figure size 640x480 with 1 Axes>"
            ],
            "image/png": "[encoded data removed]"
          },
          "metadata": {}
        }
      ]
    },
    {
      "cell_type": "markdown",
      "source": [
        "Con escala logarítmica y cambiando los bins también a un arreglo logarítmico se puede ver bien la forma de la distribución de los tiempos. Qué tipo de distribución es?"
      ],
      "metadata": {
        "id": "tRM6h3NqrarQ"
      },
      "id": "tRM6h3NqrarQ"
    },
    {
      "cell_type": "code",
      "source": [
        "plt.hist(times.all_runs,bins=np.logspace(-4,-2,50));\n",
        "plt.ylabel('#')\n",
        "plt.xlabel('Tiempo (s)');\n",
        "plt.xscale('log')\n",
        "plt.yscale('log')"
      ],
      "metadata": {
        "colab": {
          "base_uri": "https://localhost:8080/",
          "height": 454
        },
        "id": "pk4tZvy_6VTy",
        "outputId": "7e603352-3e45-4905-9e0f-9321b4ad1dd7"
      },
      "id": "pk4tZvy_6VTy",
      "execution_count": null,
      "outputs": [
        {
          "output_type": "display_data",
          "data": {
            "text/plain": [
              "<Figure size 640x480 with 1 Axes>"
            ],
            "image/png": "[encoded data removed]"
          },
          "metadata": {}
        }
      ]
    },
    {
      "cell_type": "markdown",
      "source": [
        "Calcular los tiempos y errores de diferentes algoritmos, utilizando la fórmula de la suma de una serie geométrica para distintas cantidades de términos $n$. Notar como para el error se compara con la fórmula cerrada.\n",
        "\n",
        "```python\n",
        "lista = r ** np.arange(n)\n",
        "error = np.abs(np.sum(lista)-(1 - r**n)/(1-r))\n",
        "```\n",
        "\n",
        "Generar los siguientes gráficos (lo más aproximado)"
      ],
      "metadata": {
        "id": "oFfs-WawrvxV"
      },
      "id": "oFfs-WawrvxV"
    },
    {
      "cell_type": "code",
      "source": [
        "l=np.arange(4)\n",
        "print(l)\n",
        "l=0.5 ** l\n",
        "print(l)\n",
        "print(np.sum(l))\n",
        "print((1-(0.5**4))/(1-0.5))"
      ],
      "metadata": {
        "colab": {
          "base_uri": "https://localhost:8080/"
        },
        "id": "NWhMtf4AhlKy",
        "outputId": "92eb0783-1a28-49b7-bd20-a89f4cf43aad"
      },
      "id": "NWhMtf4AhlKy",
      "execution_count": null,
      "outputs": [
        {
          "output_type": "stream",
          "name": "stdout",
          "text": [
            "[0 1 2 3]\n",
            "[1.    0.5   0.25  0.125]\n",
            "1.875\n",
            "1.875\n"
          ]
        }
      ]
    },
    {
      "cell_type": "markdown",
      "source": [
        "\n",
        "![image.png](data:image/png;base64,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)"
      ],
      "metadata": {
        "id": "Cj4xQzv34r47"
      },
      "id": "Cj4xQzv34r47"
    },
    {
      "cell_type": "code",
      "source": [],
      "metadata": {
        "id": "uqBy-9-Uru1h"
      },
      "id": "uqBy-9-Uru1h",
      "execution_count": null,
      "outputs": []
    }
  ],
  "metadata": {
    "kernelspec": {
      "display_name": "Python 3 (ipykernel)",
      "language": "python",
      "name": "python3"
    },
    "language_info": {
      "codemirror_mode": {
        "name": "ipython",
        "version": 3
      },
      "file_extension": ".py",
      "mimetype": "text/x-python",
      "name": "python",
      "nbconvert_exporter": "python",
      "pygments_lexer": "ipython3",
      "version": "3.9.7"
    },
    "colab": {
      "provenance": [],
      "include_colab_link": true
    }
  },
  "nbformat": 4,
  "nbformat_minor": 5
}